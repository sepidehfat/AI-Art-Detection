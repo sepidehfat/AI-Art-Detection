{
 "cells": [
  {
   "cell_type": "markdown",
   "metadata": {},
   "source": [
    "## Preprocessing"
   ]
  },
  {
   "cell_type": "code",
   "execution_count": 3,
   "metadata": {},
   "outputs": [],
   "source": [
    "import os\n",
    "from glob import glob\n",
    "import pandas as pd\n",
    "from PIL import Image"
   ]
  },
  {
   "cell_type": "code",
   "execution_count": 8,
   "metadata": {},
   "outputs": [],
   "source": [
    "# preprocessing\n",
    "img_paths = []\n",
    "labels = []\n",
    "data_types = []\n",
    "\n",
    "dataset_paths = ['data/Real_AI_SD_LD_Dataset/test', 'data/Real_AI_SD_LD_Dataset/train']\n",
    "\n",
    "for p in dataset_paths:\n",
    "    data_type = os.path.basename(os.path.normpath(p))\n",
    "    for dir in os.listdir(p):\n",
    "        path = os.path.join(p, dir)\n",
    "        \n",
    "        if os.path.isdir(path):\n",
    "            # extract label\n",
    "            if dir[:2] == 'AI':\n",
    "                label = \"ai\"\n",
    "            else:\n",
    "                label = \"real\"\n",
    "                \n",
    "            image_files = glob(os.path.join(path, '*.jpg'))\n",
    "            \n",
    "            for image in image_files:\n",
    "                try:\n",
    "                    img = Image.open(image)\n",
    "                    img.verify()\n",
    "                    \n",
    "                    img_paths.append(image)\n",
    "                    labels.append(label)\n",
    "                    data_types.append(data_type)\n",
    "                except (IOError, SyntaxError) as e:\n",
    "                    print(f\"Error opening image {image}: {e}\")\n",
    "                \n"
   ]
  },
  {
   "cell_type": "code",
   "execution_count": 9,
   "metadata": {},
   "outputs": [
    {
     "data": {
      "text/html": [
       "<div>\n",
       "<style scoped>\n",
       "    .dataframe tbody tr th:only-of-type {\n",
       "        vertical-align: middle;\n",
       "    }\n",
       "\n",
       "    .dataframe tbody tr th {\n",
       "        vertical-align: top;\n",
       "    }\n",
       "\n",
       "    .dataframe thead th {\n",
       "        text-align: right;\n",
       "    }\n",
       "</style>\n",
       "<table border=\"1\" class=\"dataframe\">\n",
       "  <thead>\n",
       "    <tr style=\"text-align: right;\">\n",
       "      <th></th>\n",
       "      <th>image_path</th>\n",
       "      <th>label</th>\n",
       "      <th>type</th>\n",
       "    </tr>\n",
       "  </thead>\n",
       "  <tbody>\n",
       "    <tr>\n",
       "      <th>0</th>\n",
       "      <td>data/Real_AI_SD_LD_Dataset/test/AI_LD_ukiyo-e/...</td>\n",
       "      <td>ai</td>\n",
       "      <td>test</td>\n",
       "    </tr>\n",
       "    <tr>\n",
       "      <th>1</th>\n",
       "      <td>data/Real_AI_SD_LD_Dataset/test/AI_LD_ukiyo-e/...</td>\n",
       "      <td>ai</td>\n",
       "      <td>test</td>\n",
       "    </tr>\n",
       "    <tr>\n",
       "      <th>2</th>\n",
       "      <td>data/Real_AI_SD_LD_Dataset/test/AI_LD_ukiyo-e/...</td>\n",
       "      <td>ai</td>\n",
       "      <td>test</td>\n",
       "    </tr>\n",
       "    <tr>\n",
       "      <th>3</th>\n",
       "      <td>data/Real_AI_SD_LD_Dataset/test/AI_LD_ukiyo-e/...</td>\n",
       "      <td>ai</td>\n",
       "      <td>test</td>\n",
       "    </tr>\n",
       "    <tr>\n",
       "      <th>4</th>\n",
       "      <td>data/Real_AI_SD_LD_Dataset/test/AI_LD_ukiyo-e/...</td>\n",
       "      <td>ai</td>\n",
       "      <td>test</td>\n",
       "    </tr>\n",
       "  </tbody>\n",
       "</table>\n",
       "</div>"
      ],
      "text/plain": [
       "                                          image_path label  type\n",
       "0  data/Real_AI_SD_LD_Dataset/test/AI_LD_ukiyo-e/...    ai  test\n",
       "1  data/Real_AI_SD_LD_Dataset/test/AI_LD_ukiyo-e/...    ai  test\n",
       "2  data/Real_AI_SD_LD_Dataset/test/AI_LD_ukiyo-e/...    ai  test\n",
       "3  data/Real_AI_SD_LD_Dataset/test/AI_LD_ukiyo-e/...    ai  test\n",
       "4  data/Real_AI_SD_LD_Dataset/test/AI_LD_ukiyo-e/...    ai  test"
      ]
     },
     "execution_count": 9,
     "metadata": {},
     "output_type": "execute_result"
    }
   ],
   "source": [
    "data = pd.DataFrame({\n",
    "    'image_path': img_paths, \n",
    "    'label': labels,\n",
    "    'type': data_types\n",
    "})\n",
    "\n",
    "data.head()"
   ]
  },
  {
   "cell_type": "code",
   "execution_count": 10,
   "metadata": {},
   "outputs": [],
   "source": [
    "data.to_csv('dataset.csv', index=False)"
   ]
  },
  {
   "cell_type": "markdown",
   "metadata": {},
   "source": [
    "## Training the model"
   ]
  },
  {
   "cell_type": "code",
   "execution_count": 26,
   "metadata": {},
   "outputs": [],
   "source": [
    "import pandas as pd\n",
    "import torch\n",
    "from torch.utils.data import DataLoader, Dataset\n",
    "from torchvision import transforms\n",
    "from transformers import ViTForImageClassification, ViTImageProcessor\n",
    "from PIL import Image\n",
    "from sklearn.metrics import accuracy_score, classification_report\n",
    "from tqdm import tqdm\n",
    "import os"
   ]
  },
  {
   "cell_type": "code",
   "execution_count": 59,
   "metadata": {},
   "outputs": [],
   "source": [
    "# load csv\n",
    "df = pd.read_csv('dataset.csv')\n",
    "test_df = df[df['type'] == 'test']\n",
    "train_df = df[df['type'] == 'train']\n",
    "\n",
    "\n",
    "# take a sample of the dataset\n",
    "# test_df = test_df.groupby('label', group_keys=False).apply(lambda x: x.sample(n=250, random_state=42)).reset_index(drop=True)\n",
    "# train_df = train_df.groupby('label', group_keys=False).apply(lambda x: x.sample(n=250, random_state=42)).reset_index(drop=True)\n",
    "# sampled_df = pd.concat([test_df, train_df], axis=0, ignore_index=True)"
   ]
  },
  {
   "cell_type": "code",
   "execution_count": 60,
   "metadata": {},
   "outputs": [],
   "source": [
    "class ArtDataset(Dataset):\n",
    "    def __init__(self, df, feature_extractor, train=True):\n",
    "        self.df = df[df['type'] == ('train' if train else 'test')]\n",
    "        self.feature_extractor = feature_extractor\n",
    "\n",
    "    def __len__(self):\n",
    "        return len(self.df)\n",
    "\n",
    "    def __getitem__(self, idx):\n",
    "        row = self.df.iloc[idx]\n",
    "        image = Image.open(row['image_path']).convert(\"RGB\")\n",
    "        inputs = self.feature_extractor(images=image, return_tensors=\"pt\")\n",
    "        pixel_values = inputs[\"pixel_values\"].squeeze()\n",
    "        label = 1 if row['label'] == 'ai' else 0\n",
    "        return pixel_values, label"
   ]
  },
  {
   "cell_type": "code",
   "execution_count": 66,
   "metadata": {},
   "outputs": [
    {
     "name": "stderr",
     "output_type": "stream",
     "text": [
      "Some weights of ViTForImageClassification were not initialized from the model checkpoint at google/vit-base-patch16-224-in21k and are newly initialized: ['classifier.bias', 'classifier.weight']\n",
      "You should probably TRAIN this model on a down-stream task to be able to use it for predictions and inference.\n"
     ]
    }
   ],
   "source": [
    "# Load feature extractor and model\n",
    "feature_extractor = ViTImageProcessor.from_pretrained(\"google/vit-base-patch16-224-in21k\")\n",
    "model = ViTForImageClassification.from_pretrained(\"google/vit-base-patch16-224-in21k\", num_labels=2)"
   ]
  },
  {
   "cell_type": "code",
   "execution_count": 67,
   "metadata": {},
   "outputs": [],
   "source": [
    "train_dataset = ArtDataset(df, feature_extractor, train=True)\n",
    "test_dataset = ArtDataset(df, feature_extractor, train=False)\n",
    "train_loader = DataLoader(train_dataset, batch_size=32, shuffle=True, num_workers=4)\n",
    "test_loader = DataLoader(test_dataset, batch_size=32, shuffle=False, num_workers=4)"
   ]
  },
  {
   "cell_type": "code",
   "execution_count": 68,
   "metadata": {},
   "outputs": [
    {
     "name": "stdout",
     "output_type": "stream",
     "text": [
      "Device: cuda\n"
     ]
    }
   ],
   "source": [
    "device = torch.device(\"cuda\" if torch.cuda.is_available() else \"cpu\")\n",
    "print(\"Device:\", device)\n",
    "model.to(device)\n",
    "optimizer = torch.optim.AdamW(model.parameters(), lr=5e-5)\n",
    "criterion = torch.nn.CrossEntropyLoss()"
   ]
  },
  {
   "cell_type": "code",
   "execution_count": null,
   "metadata": {},
   "outputs": [
    {
     "name": "stderr",
     "output_type": "stream",
     "text": [
      "Training Epoch 1:   0%|          | 0/4845 [00:00<?, ?it/s]/tmp/ipykernel_3803673/1324951989.py:9: UserWarning: To copy construct from a tensor, it is recommended to use sourceTensor.clone().detach() or sourceTensor.clone().detach().requires_grad_(True), rather than torch.tensor(sourceTensor).\n",
      "  labels = torch.tensor(labels).to(device)\n",
      "Training Epoch 1: 100%|██████████| 4845/4845 [1:49:43<00:00,  1.36s/it]\n"
     ]
    },
    {
     "name": "stdout",
     "output_type": "stream",
     "text": [
      "Epoch 1 - Training loss: 0.026729605788335213\n",
      "Checkpoint saved at vit_checkpoints/vit_checkpoint_epoch_1.pt\n"
     ]
    },
    {
     "name": "stderr",
     "output_type": "stream",
     "text": [
      "Training Epoch 2: 100%|██████████| 4845/4845 [1:50:42<00:00,  1.37s/it]\n"
     ]
    },
    {
     "name": "stdout",
     "output_type": "stream",
     "text": [
      "Epoch 2 - Training loss: 0.00870591711777908\n",
      "Checkpoint saved at vit_checkpoints/vit_checkpoint_epoch_2.pt\n"
     ]
    },
    {
     "name": "stderr",
     "output_type": "stream",
     "text": [
      "Training Epoch 3: 100%|██████████| 4845/4845 [1:50:47<00:00,  1.37s/it]\n"
     ]
    },
    {
     "name": "stdout",
     "output_type": "stream",
     "text": [
      "Epoch 3 - Training loss: 0.006089948401729621\n",
      "Checkpoint saved at vit_checkpoints/vit_checkpoint_epoch_3.pt\n"
     ]
    },
    {
     "name": "stderr",
     "output_type": "stream",
     "text": [
      "Training Epoch 4: 100%|██████████| 4845/4845 [1:50:43<00:00,  1.37s/it]\n"
     ]
    },
    {
     "name": "stdout",
     "output_type": "stream",
     "text": [
      "Epoch 4 - Training loss: 0.0049372117144087626\n",
      "Checkpoint saved at vit_checkpoints/vit_checkpoint_epoch_4.pt\n"
     ]
    },
    {
     "name": "stderr",
     "output_type": "stream",
     "text": [
      "Training Epoch 5: 100%|██████████| 4845/4845 [1:50:40<00:00,  1.37s/it]\n"
     ]
    },
    {
     "name": "stdout",
     "output_type": "stream",
     "text": [
      "Epoch 5 - Training loss: 0.004522934531089671\n",
      "Checkpoint saved at vit_checkpoints/vit_checkpoint_epoch_5.pt\n"
     ]
    }
   ],
   "source": [
    "checkpoint_dir = \"vit_checkpoints\"\n",
    "os.makedirs(checkpoint_dir, exist_ok=True)\n",
    "for epoch in range(5):\n",
    "    model.train()\n",
    "    train_loss = 0.0\n",
    "    for images, labels in tqdm(train_loader, desc=f\"Training Epoch {epoch+1}\"):\n",
    "        images = images.to(device)\n",
    "        labels = torch.tensor(labels).to(device)\n",
    "        \n",
    "        outputs = model(images).logits\n",
    "        loss = criterion(outputs, labels)\n",
    "        \n",
    "        optimizer.zero_grad()\n",
    "        loss.backward()\n",
    "        optimizer.step()\n",
    "        \n",
    "        train_loss += loss.item()\n",
    "    print(f\"Epoch {epoch+1} - Training loss: {train_loss/len(train_loader)}\")\n",
    "    checkpoint_path = os.path.join(checkpoint_dir, f\"vit_checkpoint_epoch_{epoch+1}.pt\")\n",
    "    torch.save({\n",
    "    'model_state': model.state_dict(),\n",
    "    'optimizer_state': optimizer.state_dict(),\n",
    "    'epoch': epoch,\n",
    "    }, checkpoint_path)\n",
    "    print(f\"Checkpoint saved at {checkpoint_path}\")"
   ]
  },
  {
   "cell_type": "code",
   "execution_count": 70,
   "metadata": {},
   "outputs": [
    {
     "name": "stdout",
     "output_type": "stream",
     "text": [
      "Model checkpoint saved at ./vit_checkpoints/vit_art_classification_final.pth\n"
     ]
    }
   ],
   "source": [
    "# save model\n",
    "output_dir = \"./vit_checkpoints\"\n",
    "os.makedirs(output_dir, exist_ok=True)\n",
    "\n",
    "checkpoint_path = os.path.join(output_dir, \"vit_art_classification_final.pth\")\n",
    "torch.save(model.state_dict(), checkpoint_path)\n",
    "print(f\"Model checkpoint saved at {checkpoint_path}\")"
   ]
  },
  {
   "cell_type": "markdown",
   "metadata": {},
   "source": [
    "## Testing"
   ]
  },
  {
   "cell_type": "code",
   "execution_count": null,
   "metadata": {},
   "outputs": [
    {
     "name": "stderr",
     "output_type": "stream",
     "text": [
      "/tmp/ipykernel_3803673/1539474380.py:8: UserWarning: To copy construct from a tensor, it is recommended to use sourceTensor.clone().detach() or sourceTensor.clone().detach().requires_grad_(True), rather than torch.tensor(sourceTensor).\n",
      "  labels = torch.tensor(labels).to(device)\n"
     ]
    },
    {
     "name": "stdout",
     "output_type": "stream",
     "text": [
      "Test Accuracy: 0.9951666666666666\n",
      "              precision    recall  f1-score   support\n",
      "\n",
      "          ai       1.00      0.99      0.99     10000\n",
      "        real       0.99      1.00      1.00     20000\n",
      "\n",
      "    accuracy                           1.00     30000\n",
      "   macro avg       1.00      0.99      0.99     30000\n",
      "weighted avg       1.00      1.00      1.00     30000\n",
      "\n"
     ]
    }
   ],
   "source": [
    "model.eval()\n",
    "all_labels = []\n",
    "all_preds = []\n",
    "\n",
    "with torch.no_grad():\n",
    "    for images, labels in test_loader:\n",
    "        images = images.to(device)\n",
    "        labels = torch.tensor(labels).to(device)\n",
    "        outputs = model(images).logits\n",
    "        _, preds = torch.max(outputs, dim=1)\n",
    "        \n",
    "        all_labels.extend(labels.cpu().numpy())\n",
    "        all_preds.extend(preds.cpu().numpy())\n",
    "\n",
    "print(\"Test Accuracy:\", accuracy_score(all_labels, all_preds))\n",
    "print(classification_report(all_labels, all_preds, target_names=[\"ai\", \"real\"]))"
   ]
  }
 ],
 "metadata": {
  "kernelspec": {
   "display_name": "base",
   "language": "python",
   "name": "python3"
  },
  "language_info": {
   "codemirror_mode": {
    "name": "ipython",
    "version": 3
   },
   "file_extension": ".py",
   "mimetype": "text/x-python",
   "name": "python",
   "nbconvert_exporter": "python",
   "pygments_lexer": "ipython3",
   "version": "3.12.2"
  }
 },
 "nbformat": 4,
 "nbformat_minor": 2
}
