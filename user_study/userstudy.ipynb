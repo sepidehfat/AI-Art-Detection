{
 "cells": [
  {
   "cell_type": "code",
   "execution_count": 29,
   "metadata": {},
   "outputs": [],
   "source": [
    "import PyPDF2\n",
    "import random\n",
    "import os\n",
    "from PIL import Image\n",
    "from io import BytesIO"
   ]
  },
  {
   "cell_type": "code",
   "execution_count": null,
   "metadata": {},
   "outputs": [
    {
     "data": {
      "text/plain": [
       "['AI_LD_art_nouveau',\n",
       " 'AI_LD_baroque',\n",
       " 'AI_LD_expressionism',\n",
       " 'AI_LD_impressionism',\n",
       " 'AI_LD_post_impressionism',\n",
       " 'AI_LD_realism',\n",
       " 'AI_LD_renaissance',\n",
       " 'AI_LD_romanticism',\n",
       " 'AI_LD_surrealism',\n",
       " 'AI_LD_ukiyo-e',\n",
       " 'AI_SD_art_nouveau',\n",
       " 'AI_SD_baroque',\n",
       " 'AI_SD_expressionism',\n",
       " 'AI_SD_impressionism',\n",
       " 'AI_SD_post_impressionism',\n",
       " 'AI_SD_realism',\n",
       " 'AI_SD_renaissance',\n",
       " 'AI_SD_romanticism',\n",
       " 'AI_SD_surrealism',\n",
       " 'AI_SD_ukiyo-e',\n",
       " 'art_nouveau',\n",
       " 'baroque',\n",
       " 'expressionism',\n",
       " 'impressionism',\n",
       " 'post_impressionism',\n",
       " 'realism',\n",
       " 'renaissance',\n",
       " 'romanticism',\n",
       " 'surrealism',\n",
       " 'ukiyo_e']"
      ]
     },
     "execution_count": 30,
     "metadata": {},
     "output_type": "execute_result"
    }
   ],
   "source": [
    "directory_path = \"../data/test\"\n",
    "test_files = [folder for folder in os.listdir(directory_path) if os.path.isdir(os.path.join(directory_path, folder))]\n",
    "test_files"
   ]
  },
  {
   "cell_type": "code",
   "execution_count": 31,
   "metadata": {},
   "outputs": [],
   "source": [
    "# Define the dictionary mapping styles to folders\n",
    "style_folders = {\n",
    "    'art_nouveau': ['AI_LD_art_nouveau', 'AI_SD_art_nouveau'],\n",
    "    'baroque': ['AI_LD_baroque', 'AI_SD_baroque'],\n",
    "    'expressionism': ['AI_LD_expressionism', 'AI_SD_expressionism'],\n",
    "    'impressionism': ['AI_LD_impressionism', 'AI_SD_impressionism'],\n",
    "    'post_impressionism': ['AI_LD_post_impressionism', 'AI_SD_post_impressionism'],\n",
    "    'realism': ['AI_LD_realism', 'AI_SD_realism'],\n",
    "    'renaissance': ['AI_LD_renaissance', 'AI_SD_renaissance'],\n",
    "    'romanticism': ['AI_LD_romanticism', 'AI_SD_romanticism'],\n",
    "    'surrealism': ['AI_LD_surrealism', 'AI_SD_surrealism'],\n",
    "    'ukiyo-e': ['AI_LD_ukiyo-e', 'AI_SD_ukiyo-e']\n",
    "}\n",
    "\n",
    "# Create a dictionary to ensure all art styles are represented\n",
    "ai_ld_selected_styles = {}\n",
    "ai_sd_selected_styles = {}\n",
    "\n",
    "for style, folders in style_folders.items():\n",
    "    ld_folder = [f for f in folders if 'AI_LD' in f]\n",
    "    sd_folder = [f for f in folders if 'AI_SD' in f]\n",
    "    if ld_folder:\n",
    "        ai_ld_selected_styles[style] = random.choice(ld_folder)\n",
    "    if sd_folder:\n",
    "        ai_sd_selected_styles[style] = random.choice(sd_folder)\n",
    "\n",
    "# Randomly select 5 distinct AI_LD and 5 distinct AI_SD styles\n",
    "selected_ai_ld_styles = random.sample(list(ai_ld_selected_styles.values()), 5)\n",
    "selected_ai_sd_styles = random.sample(list(ai_sd_selected_styles.values()), 5)\n",
    "\n",
    "# Combine the selected folders into one list\n",
    "final_selected_folders = selected_ai_ld_styles + selected_ai_sd_styles\n",
    "\n",
    "# Output the final selected folders for review\n",
    "\n"
   ]
  },
  {
   "cell_type": "code",
   "execution_count": 32,
   "metadata": {},
   "outputs": [
    {
     "data": {
      "text/plain": [
       "['AI_LD_post_impressionism',\n",
       " 'AI_LD_expressionism',\n",
       " 'AI_LD_impressionism',\n",
       " 'AI_LD_realism',\n",
       " 'AI_LD_ukiyo-e',\n",
       " 'AI_SD_art_nouveau',\n",
       " 'AI_SD_impressionism',\n",
       " 'AI_SD_renaissance',\n",
       " 'AI_SD_surrealism',\n",
       " 'AI_SD_ukiyo-e',\n",
       " 'art_nouveau',\n",
       " 'baroque',\n",
       " 'expressionism',\n",
       " 'impressionism',\n",
       " 'post_impressionism',\n",
       " 'realism',\n",
       " 'renaissance',\n",
       " 'romanticism',\n",
       " 'surrealism',\n",
       " 'ukiyo_e']"
      ]
     },
     "execution_count": 32,
     "metadata": {},
     "output_type": "execute_result"
    }
   ],
   "source": [
    "real_file_names = [ 'art_nouveau',\n",
    "'baroque',\n",
    "'expressionism',\n",
    "'impressionism',\n",
    "'post_impressionism',\n",
    "'realism',\n",
    "'renaissance',\n",
    "'romanticism',\n",
    "'surrealism',\n",
    "'ukiyo_e']\n",
    "\n",
    "final_selected_folders += real_file_names\n",
    "final_selected_folders"
   ]
  },
  {
   "cell_type": "code",
   "execution_count": null,
   "metadata": {},
   "outputs": [
    {
     "name": "stdout",
     "output_type": "stream",
     "text": [
      "AI_SD_art_nouveau\n",
      "Randomly selected image: ./data/test/AI_SD_art_nouveau\\0-196659028-708719.jpg\n",
      "AI_SD_surrealism\n",
      "Randomly selected image: ./data/test/AI_SD_surrealism\\8-176741467-607500.jpg\n",
      "AI_LD_impressionism\n",
      "Randomly selected image: ./data/test/AI_LD_impressionism\\3-201782522-108884.jpg\n",
      "AI_LD_post_impressionism\n",
      "Randomly selected image: ./data/test/AI_LD_post_impressionism\\4-22475441-924270.jpg\n",
      "AI_SD_renaissance\n",
      "Randomly selected image: ./data/test/AI_SD_renaissance\\6-181823955-138502.jpg\n",
      "AI_SD_ukiyo-e\n",
      "Randomly selected image: ./data/test/AI_SD_ukiyo-e\\9-225100654-891563.jpg\n",
      "expressionism\n",
      "Randomly selected image: ./data/test/expressionism\\pierre-alechinsky_in-society-en-soci-t-1962.jpg\n",
      "baroque\n",
      "Randomly selected image: ./data/test/baroque\\ivan-rutkovych_the-crucifixtion-with-scenes-of-christ-s-passion-1699.jpg\n",
      "art_nouveau\n",
      "Randomly selected image: ./data/test/art_nouveau\\beatrix-potter_the-tailor-hears-noises-1902.jpg\n",
      "AI_LD_realism\n",
      "Randomly selected image: ./data/test/AI_LD_realism\\5-198430702-768878.jpg\n",
      "AI_SD_impressionism\n",
      "Randomly selected image: ./data/test/AI_SD_impressionism\\3-218971924-134721.jpg\n",
      "post_impressionism\n",
      "Randomly selected image: ./data/test/post_impressionism\\pyotr-konchalovsky_the-woman-at-the-creek-1932.jpg\n",
      "AI_LD_expressionism\n",
      "Randomly selected image: ./data/test/AI_LD_expressionism\\2-22224488-141796.jpg\n",
      "romanticism\n",
      "Randomly selected image: ./data/test/romanticism\\rudolf-von-alt_dalmatian-woman-in-the-background-there-are-sketches-of-four-men-1841.jpg\n",
      "renaissance\n",
      "Randomly selected image: ./data/test/renaissance\\gerard-david_the-marriage-at-cana-detail.jpg\n",
      "ukiyo_e\n",
      "Randomly selected image: ./data/test/ukiyo_e\\shotei-hokuju_5.jpg\n",
      "impressionism\n",
      "Randomly selected image: ./data/test/impressionism\\lilla-cabot-perry_mountain-village-japan-1901.jpg\n",
      "AI_LD_ukiyo-e\n",
      "Randomly selected image: ./data/test/AI_LD_ukiyo-e\\9-192586217-326617.jpg\n",
      "surrealism\n",
      "Randomly selected image: ./data/test/surrealism\\Didier_Mazuru_.jpg\n",
      "realism\n",
      "Randomly selected image: ./data/test/realism\\martiros-sarian_landscape-1964.jpg\n"
     ]
    }
   ],
   "source": [
    "import os\n",
    "import random\n",
    "\n",
    "# Function to get all JPG images from a directory\n",
    "def get_images_from_folder(folder_path):\n",
    "    return [os.path.join(folder_path, file) for file in os.listdir(folder_path) if file.endswith(\".jpg\")]\n",
    "\n",
    "# Function to select one image randomly\n",
    "def select_random_image(images):\n",
    "    return random.choice(images) if images else None\n",
    "\n",
    "\n",
    "\n",
    "# Get all JPG images\n",
    "\n",
    "random.shuffle(final_selected_folders)\n",
    "selected_images = []\n",
    "for file_name in final_selected_folders:\n",
    "    folder_path = os.path.join(\"../data/test/\" , file_name)\n",
    "    print(file_name)\n",
    "\n",
    "    images = get_images_from_folder(folder_path)\n",
    "    # print(len(images))\n",
    "    if images:\n",
    "        selected_images.append(select_random_image(images))\n",
    "        print(f\"Randomly selected image: {selected_images[-1]}\")\n",
    "    else:\n",
    "        print(\"No JPG images found in the specified folder.\")\n"
   ]
  },
  {
   "cell_type": "code",
   "execution_count": null,
   "metadata": {},
   "outputs": [
    {
     "data": {
      "text/plain": [
       "'./user_study/images_list.csv'"
      ]
     },
     "execution_count": 34,
     "metadata": {},
     "output_type": "execute_result"
    }
   ],
   "source": [
    "import csv\n",
    "\n",
    "# File name for the output CSV\n",
    "output_csv = \"./images_list.csv\"\n",
    "\n",
    "# Write the shuffled list to a CSV file\n",
    "with open(output_csv, mode='w', newline='') as file:\n",
    "    writer = csv.writer(file)\n",
    "    writer.writerows([[name] for name in selected_images])\n",
    "\n",
    "output_csv"
   ]
  },
  {
   "cell_type": "code",
   "execution_count": null,
   "metadata": {},
   "outputs": [
    {
     "name": "stdout",
     "output_type": "stream",
     "text": [
      "Emptied the destination folder: ./user_study/images\n",
      "Copied 0-196659028-708719.jpg to ./user_study/images\n",
      "Copied 8-176741467-607500.jpg to ./user_study/images\n",
      "Copied 3-201782522-108884.jpg to ./user_study/images\n",
      "Copied 4-22475441-924270.jpg to ./user_study/images\n",
      "Copied 6-181823955-138502.jpg to ./user_study/images\n",
      "Copied 9-225100654-891563.jpg to ./user_study/images\n",
      "Copied pierre-alechinsky_in-society-en-soci-t-1962.jpg to ./user_study/images\n",
      "Copied ivan-rutkovych_the-crucifixtion-with-scenes-of-christ-s-passion-1699.jpg to ./user_study/images\n",
      "Copied beatrix-potter_the-tailor-hears-noises-1902.jpg to ./user_study/images\n",
      "Copied 5-198430702-768878.jpg to ./user_study/images\n",
      "Copied 3-218971924-134721.jpg to ./user_study/images\n",
      "Copied pyotr-konchalovsky_the-woman-at-the-creek-1932.jpg to ./user_study/images\n",
      "Copied 2-22224488-141796.jpg to ./user_study/images\n",
      "Copied rudolf-von-alt_dalmatian-woman-in-the-background-there-are-sketches-of-four-men-1841.jpg to ./user_study/images\n",
      "Copied gerard-david_the-marriage-at-cana-detail.jpg to ./user_study/images\n",
      "Copied shotei-hokuju_5.jpg to ./user_study/images\n",
      "Copied lilla-cabot-perry_mountain-village-japan-1901.jpg to ./user_study/images\n",
      "Copied 9-192586217-326617.jpg to ./user_study/images\n",
      "Copied Didier_Mazuru_.jpg to ./user_study/images\n",
      "Copied martiros-sarian_landscape-1964.jpg to ./user_study/images\n"
     ]
    }
   ],
   "source": [
    "import shutil\n",
    "destination_path = \"./images\"  # Replace with your destination path\n",
    "\n",
    "# Ensure the destination folder exists\n",
    "os.makedirs(destination_path, exist_ok=True)\n",
    "\n",
    "# Clear the destination folder\n",
    "for file in os.listdir(destination_path):\n",
    "    file_path = os.path.join(destination_path, file)\n",
    "    if os.path.isfile(file_path) or os.path.islink(file_path):\n",
    "        os.unlink(file_path)  # Remove the file or symbolic link\n",
    "    elif os.path.isdir(file_path):\n",
    "        shutil.rmtree(file_path)  # Remove the directory and its contents\n",
    "\n",
    "print(f\"Emptied the destination folder: {destination_path}\")\n",
    "\n",
    "# Copy each image to the destination folder\n",
    "for image_path in selected_images:\n",
    "    if os.path.exists(image_path):\n",
    "        # Get the filename from the image path\n",
    "        image_name = os.path.basename(image_path)\n",
    "        # Create the destination path for the image\n",
    "        destination_image_path = os.path.join(destination_path, image_name)\n",
    "        # Copy the image\n",
    "        shutil.copy(image_path, destination_image_path)\n",
    "        print(f\"Copied {image_name} to {destination_path}\")\n",
    "    else:\n",
    "        print(f\"Image not found: {image_path}\")"
   ]
  }
 ],
 "metadata": {
  "kernelspec": {
   "display_name": "env_cv",
   "language": "python",
   "name": "python3"
  },
  "language_info": {
   "codemirror_mode": {
    "name": "ipython",
    "version": 3
   },
   "file_extension": ".py",
   "mimetype": "text/x-python",
   "name": "python",
   "nbconvert_exporter": "python",
   "pygments_lexer": "ipython3",
   "version": "3.9.20"
  }
 },
 "nbformat": 4,
 "nbformat_minor": 2
}
